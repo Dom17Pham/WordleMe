{
 "cells": [
  {
   "cell_type": "markdown",
   "metadata": {},
   "source": [
    "# Wordle Analysis\n",
    "Wordle is popular game that many of us like to play at the start of our day, on a commute, in class, during work, or any time boredom calls!\n",
    "\n",
    "You as the player must guess the wordle in 6 attempts where:\n",
    "* Each guess must be a valid 5-letter word.\n",
    "* The color of the tiles will change to show how close your guess was to the word.\n",
    "    * Green - letter in the correct position and is in the wordle\n",
    "    * Yellow - letter is in the wrong position and is in the wordle\n",
    "    * Grey - letter is not in the wordle\n",
    "\n",
    "It's simple, all you have to do is guess the 5 letter word (wordle) within 6 attempts and you win, well aside from the fact that there are 2,309 words that could be the wordle. \n",
    "\n",
    "This is where the analysis comes into play, the aim of this analysis is to gain insights and identify potential patterns between potential guesses the player can make and valid solution words. This can help to formulate strategies to make better guesses and reduce the number of attempts to guess the wordle. Hopefully it brings some value to your next wordle game. "
   ]
  },
  {
   "cell_type": "code",
   "execution_count": 7,
   "metadata": {},
   "outputs": [],
   "source": [
    "import pandas as pd\n",
    "import seaborn as sns"
   ]
  },
  {
   "cell_type": "markdown",
   "metadata": {},
   "source": [
    "## Data Extraction\n",
    "The datasets that are being extracted are, the valid guesses that the player can make and the solution bank of words that could potentially be the wordle.\n",
    "\n",
    "Valid guesses are words or set of letters that players can input to use as a guess to give clues of what letters are in the wordle.\n",
    "The solution bank contains all the possible words that could be selected as the wordle. As of now it is a defined set and new words are yet to be added however this anaylsis will be updated once more words are added to ensure relevance. "
   ]
  },
  {
   "cell_type": "code",
   "execution_count": 8,
   "metadata": {},
   "outputs": [],
   "source": [
    "WordleSolutions = pd.DataFrame()\n",
    "WordleValidGuesses = pd.DataFrame()\n",
    "\n",
    "WordleSolutions = pd.read_csv(\"datasets/valid_answers.csv\")\n",
    "WordleValidGuesses = pd.read_csv(\"datasets/valid_guesses.csv\")"
   ]
  },
  {
   "cell_type": "markdown",
   "metadata": {},
   "source": [
    "## Frequency Analysis\n",
    "We can employ an approach by analyzing the frequency of letters to enhance our guessing strategy. By recognizing the likelihood of certain letters appearing in the target word, we can make more informed guesses, thereby improving our chances of success. "
   ]
  },
  {
   "cell_type": "code",
   "execution_count": 9,
   "metadata": {},
   "outputs": [
    {
     "data": {
      "text/plain": [
       "<Axes: xlabel='Letter', ylabel='Frequency'>"
      ]
     },
     "execution_count": 9,
     "metadata": {},
     "output_type": "execute_result"
    },
    {
     "data": {
      "image/png": "[encoded data removed]",
      "text/plain": [
       "<Figure size 640x480 with 1 Axes>"
      ]
     },
     "metadata": {},
     "output_type": "display_data"
    }
   ],
   "source": [
    "def count_letters(word):\n",
    "    letter_count = {}\n",
    "    for letter in word:\n",
    "        if letter in letter_count:\n",
    "            letter_count[letter] += 1\n",
    "        else:\n",
    "            letter_count[letter] = 1\n",
    "    return letter_count\n",
    "\n",
    "WordleSolutions['Letter_Count'] = WordleSolutions['word'].apply(count_letters)\n",
    "\n",
    "letter_frequency = {}\n",
    "\n",
    "for index, row in WordleSolutions.iterrows():\n",
    "    letter_count = row['Letter_Count']\n",
    "    for letter, frequency in letter_count.items():\n",
    "        if letter in letter_frequency:\n",
    "            letter_frequency[letter] += frequency\n",
    "        else:\n",
    "            letter_frequency[letter] = frequency\n",
    "\n",
    "LetterFrequency = pd.DataFrame(list(letter_frequency.items()), columns=['Letter', 'Frequency'])\n",
    "LetterFrequency = LetterFrequency.sort_values(by='Frequency', ascending=False).reset_index(drop=True)\n",
    "\n",
    "sns.barplot(LetterFrequency, x='Letter', y='Frequency')"
   ]
  },
  {
   "cell_type": "markdown",
   "metadata": {},
   "source": [
    "We can observe that the most frequent letters are, e, a, r, o, and t as they occur the most of the 26 letters. \n",
    "Is this enough insight to make effective guesses? possibly not.\n",
    "\n",
    "If we take a closer look at the plot, we can see the other letters are fairly distributed and the difference between the most frequent letters and the rest of the letters are not drastic except for the letters, z, x, q, and j as not as many words contain these letters. Due to the distribution, only examining the frequency of the letters do not provide sufficient insight on making a succesful guess as frequencies of the most frequent letters is not large enough in difference compared to the other letters that would ensure that those letters will be in the wordle."
   ]
  }
 ],
 "metadata": {
  "kernelspec": {
   "display_name": ".venv",
   "language": "python",
   "name": "python3"
  },
  "language_info": {
   "codemirror_mode": {
    "name": "ipython",
    "version": 3
   },
   "file_extension": ".py",
   "mimetype": "text/x-python",
   "name": "python",
   "nbconvert_exporter": "python",
   "pygments_lexer": "ipython3",
   "version": "3.11.9"
  }
 },
 "nbformat": 4,
 "nbformat_minor": 2
}
